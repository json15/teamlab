{
 "cells": [
  {
   "cell_type": "markdown",
   "metadata": {},
   "source": [
    "Machine learing = computer에게 가르쳐 줘서 무언가를 잘하게 하는것"
   ]
  },
  {
   "cell_type": "markdown",
   "metadata": {},
   "source": [
    "where is it used? Youtube 추천 알고리즘"
   ]
  },
  {
   "cell_type": "markdown",
   "metadata": {},
   "source": [
    "### understanding of Data Key words"
   ]
  },
  {
   "cell_type": "markdown",
   "metadata": {},
   "source": [
    "- Big data = X86 pc로 정해진 시간내에 처리하기 힘든 data\n",
    "- 고성능 machine or 다수의 machine을 사용해야지 목표대로 data 처리 가능\n",
    "- 실시간 대용량 SQL 처리 기법\n",
    "    @What is SQL? Structured Query Language, data를 데이터 베이스로 부터 가져올때 사용하는 언어"
   ]
  },
  {
   "cell_type": "markdown",
   "metadata": {},
   "source": [
    "ML\n",
    "- data 로 부터 패턴을 학습하는 기법\n",
    "- 알고리즘, 모델을 통칭해서 사용한다\n",
    "- Data의 크기가 중요하지만, 절대적인 것은 아니다\n",
    "- 손글씨 인식등을 할수있다"
   ]
  },
  {
   "cell_type": "markdown",
   "metadata": {},
   "source": [
    "Data mining\n",
    "- ML과 같은 의미\n",
    "- data에서 의미있는 규칙을 찾는 일\n",
    "ML = 알고리즘, DM = 어플"
   ]
  },
  {
   "cell_type": "markdown",
   "metadata": {},
   "source": [
    "|데이터 처리 | 데이터 분석 |\n",
    "|----|----|\n",
    "|big data | ML |\n",
    "|data engineering | Data Analysis |\n",
    "\n",
    "활용: Big Data / Data Mining\n",
    "\n",
    "기술계념: 분산처리, 데이터 베이스 / ML\n",
    "\n",
    "알고리즘 구현체: Hadoop, NoSQL, Spark / Logistics, Regression"
   ]
  },
  {
   "cell_type": "markdown",
   "metadata": {},
   "source": [
    "What is Deep learning?\n",
    "- Neual Net 기반의 ML 알고리즘\n",
    "- 요즘 성능이 잘 나와옴\n",
    "- 시진내 객체인식, 번역등에 많이 사용된다"
   ]
  },
  {
   "cell_type": "markdown",
   "metadata": {},
   "source": [
    "### How to learn ML"
   ]
  },
  {
   "cell_type": "markdown",
   "metadata": {},
   "source": [
    "#### ML Process \n",
    " Existing data -> ML Algorithms -> Model \n",
    " New data -> model -> prediction\n",
    " \n",
    "#### Model and Algorithms \n",
    "Model = 예측을 위한 수학공식, 함수(1차 방정식, 확률분포, condition rule)\n",
    "Algorithms = 문제를 풀기위한 과정, Model 을 생성하기 위한 훈련 과정\n",
    "\n",
    "#### Types of ML\n",
    "- Regression 희귀 \n",
    "    - y = ax + b\n",
    "    - (x, y)를 받고 x'의 y'을 예측한다\n",
    "- Classification 분류\n",
    "    - 기존 데이터를 바탕으로 (x, y) 를 받고 유형별로 나눈다\n",
    "    - x' 의 y' 분류\n",
    "- clustering 군집\n",
    "    - 사전 정보없이 유형별로 분류하기\n",
    "    - (x)를 받고 n개의 유형별로 나눈다\n",
    "    \n",
    "#### Supervised & Unsupervised learning\n",
    "- Supervised\n",
    "    - Have data y\n",
    "    - Regression, classification\n",
    "- Unsupervised \n",
    "    - No data y\n",
    "    - clusturing \n",
    "- Recommendation\n",
    "    - Mixture of lots of them\n",
    "- Reinforcement learning\n",
    "    - 강화학습"
   ]
  },
  {
   "cell_type": "markdown",
   "metadata": {},
   "source": []
  },
  {
   "cell_type": "markdown",
   "metadata": {},
   "source": []
  },
  {
   "cell_type": "markdown",
   "metadata": {},
   "source": []
  },
  {
   "cell_type": "markdown",
   "metadata": {},
   "source": []
  },
  {
   "cell_type": "markdown",
   "metadata": {},
   "source": []
  }
 ],
 "metadata": {
  "kernelspec": {
   "display_name": "Python 3",
   "language": "python",
   "name": "python3"
  },
  "language_info": {
   "codemirror_mode": {
    "name": "ipython",
    "version": 3
   },
   "file_extension": ".py",
   "mimetype": "text/x-python",
   "name": "python",
   "nbconvert_exporter": "python",
   "pygments_lexer": "ipython3",
   "version": "3.6.4"
  }
 },
 "nbformat": 4,
 "nbformat_minor": 2
}
